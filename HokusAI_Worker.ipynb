{
  "nbformat": 4,
  "nbformat_minor": 0,
  "metadata": {
    "colab": {
      "name": "HokusAI Worker",
      "provenance": [],
      "collapsed_sections": [],
      "toc_visible": true,
      "authorship_tag": "ABX9TyMvoDXDuhiSUVZ5rPyjC6+1",
      "include_colab_link": true
    },
    "kernelspec": {
      "name": "python3",
      "display_name": "Python 3"
    },
    "language_info": {
      "name": "python"
    },
    "accelerator": "GPU"
  },
  "cells": [
    {
      "cell_type": "markdown",
      "metadata": {
        "id": "view-in-github",
        "colab_type": "text"
      },
      "source": [
        "<a href=\"https://colab.research.google.com/github/HokusAI-Art/HokusAI-Server/blob/main/HokusAI_Worker.ipynb\" target=\"_parent\"><img src=\"https://colab.research.google.com/assets/colab-badge.svg\" alt=\"Open In Colab\"/></a>"
      ]
    },
    {
      "cell_type": "markdown",
      "source": [
        "# **Installation**\n",
        "Setting up Pixray\n",
        "\n",
        "https://dazhizhong.gitbook.io/pixray-docs/quickstart/installation"
      ],
      "metadata": {
        "id": "OL32lhQX5r7j"
      }
    },
    {
      "cell_type": "code",
      "source": [
        "#@title Rerolling the GPU until we get a good one\n",
        "\n",
        "import os\n",
        "\n",
        "model = !nvidia-smi\n",
        "GPU_model = model[8]\n",
        "\n",
        "\n",
        "def restart_runtime():\n",
        "    os.kill(os.getpid(), 9)\n",
        "\n",
        "\n",
        "if ('Tesla T4' in GPU_model) or ('Tesla P100-PCIE...' in GPU_model):\n",
        "    print('Fast T4 or P100 GPU :)')\n",
        "else:\n",
        "    print('Bad Tesla K80 GPU :(')"
      ],
      "metadata": {
        "id": "fDSCuAoZ5sle",
        "colab": {
          "base_uri": "https://localhost:8080/"
        },
        "outputId": "d167989c-d136-4a47-dd1e-e19d0bb55f61"
      },
      "execution_count": null,
      "outputs": [
        {
          "output_type": "stream",
          "name": "stdout",
          "text": [
            "Bad Tesla K80 GPU :(\n"
          ]
        }
      ]
    },
    {
      "cell_type": "code",
      "execution_count": null,
      "metadata": {
        "id": "dHpnag7o5j-q"
      },
      "outputs": [],
      "source": [
        "#@title Setup\n",
        "\n",
        "#@markdown Please execute this cell by pressing the _Play_ button \n",
        "#@markdown on the left. You should only need to run this part once.\n",
        "\n",
        "#@markdown **Note**: This installs the software on the Colab \n",
        "#@markdown notebook in the cloud and not on your computer.\n",
        "\n",
        "%%capture\n",
        "# this patch applied to fix torchtext dependency 11 Nov 2021\n",
        "!pip install torch==1.9.0+cu111 torchtext==0.10.0 torchvision==0.10.0+cu111 -f https://download.pytorch.org/whl/torch/ -f https://download.pytorch.org/whl/torchvision/\n",
        "\n",
        "!git clone https://github.com/openai/CLIP\n",
        "# !pip install taming-transformers\n",
        "!git clone https://github.com/CompVis/taming-transformers.git\n",
        "!rm -Rf pixray\n",
        "!git clone https://github.com/dribnet/pixray\n",
        "!pip install ftfy regex tqdm omegaconf pytorch-lightning\n",
        "!pip install kornia==0.6.1\n",
        "!pip install imageio-ffmpeg   \n",
        "!pip install einops\n",
        "!pip install torch-optimizer\n",
        "!pip install easydict\n",
        "!pip install braceexpand\n",
        "!pip install git+https://github.com/pvigier/perlin-numpy\n",
        "!mkdir -p steps\n",
        "!mkdir -p models\n",
        "\n",
        "import sys\n",
        "sys.path.append(\"pixray\")"
      ]
    },
    {
      "cell_type": "code",
      "source": [
        "#@title More Dependencies\n",
        "\n",
        "#@markdown I don't really remember which dependencies I need anymore,\n",
        "#@markdown but if I remove them it breaks sooo\n",
        "\n",
        "!pip install fastapi nest-asyncio pyngrok uvicorn aiofiles python-multipart firebase-admin"
      ],
      "metadata": {
        "id": "EKtxAVmD6O0U"
      },
      "execution_count": null,
      "outputs": []
    },
    {
      "cell_type": "markdown",
      "source": [
        "## please please please upload your firebase credentials *right now* 🥺"
      ],
      "metadata": {
        "id": "bMVnIr-56UHE"
      }
    },
    {
      "cell_type": "markdown",
      "source": [
        "# **Creating the Generating Function**"
      ],
      "metadata": {
        "id": "5-_WX-pL_rC-"
      }
    },
    {
      "cell_type": "code",
      "source": [
        "import torch\n",
        "import pixray\n",
        "from datetime import datetime\n",
        "\n",
        "import firebase_admin\n",
        "from firebase_admin import credentials, firestore, storage\n",
        "\n",
        "if not firebase_admin._apps:\n",
        "    cred = credentials.Certificate(\"firebaseKey.json\")\n",
        "    firebase_admin.initialize_app(cred, {\n",
        "        'storageBucket': 'hokus-ai-firebase.appspot.com' # Firebase storage path without the gs://\n",
        "    })\n",
        "\n",
        "db = firestore.client()\n",
        "bucket = storage.bucket()\n",
        "\n",
        "def generate(doc_id, init_image, prompt, quality, style, aspect):\n",
        "    torch.cuda.empty_cache()\n",
        "    pixray.reset_settings()\n",
        "    if init_image == '':\n",
        "        init_image = None\n",
        "        \n",
        "    pixray.add_settings(prompts=prompt, init_image=init_image, aspect=aspect, quality=quality, drawer='vqgan', scale=2.5)\n",
        "    pixray.add_settings(iterations=120)\n",
        "    pixray.add_settings(display_clear=True) # Do this so you don't get overwhelmed with output\n",
        "    \n",
        "    settings = pixray.apply_settings()\n",
        "    pixray.do_init(settings)\n",
        "    pixray.do_run(settings)\n",
        "\n",
        "    image_blob = bucket.blob(f'generated_images/{doc_id}.png')\n",
        "    image_blob.upload_from_filename('output.png')\n",
        "    image_blob.make_public()\n",
        "\n",
        "    return image_blob.public_url"
      ],
      "metadata": {
        "id": "3swZSlTU8j_t"
      },
      "execution_count": 3,
      "outputs": []
    },
    {
      "cell_type": "markdown",
      "source": [
        "# **Worker**"
      ],
      "metadata": {
        "id": "YtoKI7oz_v9r"
      }
    },
    {
      "cell_type": "code",
      "source": [
        "import firebase_admin\n",
        "from firebase_admin import credentials, storage, firestore\n",
        "import time\n",
        "from datetime import datetime\n",
        "\n",
        "\n",
        "transaction = db.transaction()\n",
        "\n",
        "@firestore.transactional\n",
        "def claim_task(transaction, queue_objects_ref):\n",
        "    # query firestore\n",
        "    queue_objects = queue_objects_ref.stream(transaction=transaction)\n",
        "\n",
        "    # pull the document from the iterable\n",
        "    next_item = None\n",
        "    for doc in queue_objects:\n",
        "        next_item = doc\n",
        "\n",
        "    # if queue is empty return status code of 2\n",
        "    if not next_item:\n",
        "        return None\n",
        "\n",
        "\n",
        "    # get information from the document \n",
        "    next_item_data = next_item.to_dict()\n",
        "    next_item_data['id'] = next_item.id\n",
        "\n",
        "    # delete the document and return the information\n",
        "    # transaction.delete(next_item.reference)\n",
        "    next_item_data['loading'] = True\n",
        "    transaction.update(next_item.reference, {\n",
        "        u'loading' : True\n",
        "    })\n",
        "\n",
        "    return (next_item_data, next_item.reference)\n",
        "\n",
        "\n",
        "@firestore.transactional\n",
        "def set_loading(transaction, loading):\n",
        "    transaction.update(next_item_reference, {u'loading' : loading})\n",
        "\n",
        "\n",
        "@firestore.transactional\n",
        "def set_image(transaction, image_url):\n",
        "    transaction.update(next_item_reference, {u'imageUrl' : image_url})\n",
        "\n",
        "\n",
        "# initialize query\n",
        "queue_objects_ref = (\n",
        "    db.collection(\"art\")\n",
        "    .order_by(\"createdAt\", direction=\"ASCENDING\")\n",
        "    .where(u'loading', u'==', True)\n",
        "    .limit(1)\n",
        ")\n",
        "\n",
        "transaction_attempts = 0\n",
        "while True:\n",
        "    try:\n",
        "        # apply transaction\n",
        "        task = claim_task(transaction, queue_objects_ref)\n",
        "        if not task:\n",
        "            continue\n",
        "        \n",
        "        next_item_data, next_item_reference = task\n",
        "        if next_item_data['loading']:\n",
        "            # generate art\n",
        "            public_url = generate(next_item_data['id'], next_item_data['init_image'], next_item_data['prompt'],\n",
        "                                  next_item_data['quality'], next_item_data['type'], next_item_data['aspect'])\n",
        "            \n",
        "            set_image(transaction, public_url)\n",
        "            set_loading(transaction, False)\n",
        "\n",
        "            print(f\"Generated {next_item_data['prompt']} for {next_item_data['id']}\")\n",
        "\n",
        "    except Exception as e:\n",
        "        print(f\"Could not apply transaction. Error: {e}\")\n",
        "        time.sleep(5)\n",
        "        transaction_attempts += 1\n",
        "        if transaction_attempts > 20:\n",
        "            db.collection(\"errors\").add({\n",
        "                \"exception\": f\"Could not apply artifaication claim transaction. Error: {e}\",\n",
        "                \"location\": \"Claim artifaication\",\n",
        "                \"time\": str(datetime.now())\n",
        "            })\n",
        "            exit()"
      ],
      "metadata": {
        "id": "EMzwtPDw_y6Z"
      },
      "execution_count": null,
      "outputs": []
    }
  ]
}