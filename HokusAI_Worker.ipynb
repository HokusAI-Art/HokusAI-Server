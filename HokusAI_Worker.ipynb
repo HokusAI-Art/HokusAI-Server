{
  "nbformat": 4,
  "nbformat_minor": 0,
  "metadata": {
    "colab": {
      "name": "Hokus-AI Worker",
      "provenance": [],
      "collapsed_sections": [],
      "authorship_tag": "ABX9TyOgSzD+TgWvwCstp2Q7H4QF",
      "include_colab_link": true
    },
    "kernelspec": {
      "name": "python3",
      "display_name": "Python 3"
    },
    "language_info": {
      "name": "python"
    },
    "accelerator": "GPU"
  },
  "cells": [
    {
      "cell_type": "markdown",
      "metadata": {
        "id": "view-in-github",
        "colab_type": "text"
      },
      "source": [
        "<a href=\"https://colab.research.google.com/github/HokusAI-Art/HokusAI-Server/blob/main/HokusAI_Worker.ipynb\" target=\"_parent\"><img src=\"https://colab.research.google.com/assets/colab-badge.svg\" alt=\"Open In Colab\"/></a>"
      ]
    },
    {
      "cell_type": "markdown",
      "source": [
        "# **Installation**\n",
        "Setting up Pixray\n",
        "\n",
        "https://dazhizhong.gitbook.io/pixray-docs/quickstart/installation"
      ],
      "metadata": {
        "id": "OL32lhQX5r7j"
      }
    },
    {
      "cell_type": "code",
      "source": [
        "#@title Rerolling the GPU until we get a good one\n",
        "\n",
        "import os\n",
        "\n",
        "model = !nvidia-smi\n",
        "GPU_model = model[8]\n",
        "\n",
        "\n",
        "def restart_runtime():\n",
        "    os.kill(os.getpid(), 9)\n",
        "\n",
        "\n",
        "if ('Tesla T4' in GPU_model) or ('Tesla P100-PCIE...' in GPU_model):\n",
        "    print('Fast T4 or P100 GPU :)')\n",
        "else:\n",
        "    print('Bad Tesla K80 GPU :(')"
      ],
      "metadata": {
        "id": "fDSCuAoZ5sle",
        "colab": {
          "base_uri": "https://localhost:8080/"
        },
        "outputId": "d167989c-d136-4a47-dd1e-e19d0bb55f61"
      },
      "execution_count": null,
      "outputs": [
        {
          "output_type": "stream",
          "name": "stdout",
          "text": [
            "Bad Tesla K80 GPU :(\n"
          ]
        }
      ]
    },
    {
      "cell_type": "code",
      "execution_count": null,
      "metadata": {
        "id": "dHpnag7o5j-q"
      },
      "outputs": [],
      "source": [
        "#@title Setup\n",
        "\n",
        "#@markdown Please execute this cell by pressing the _Play_ button \n",
        "#@markdown on the left. You should only need to run this part once.\n",
        "\n",
        "#@markdown **Note**: This installs the software on the Colab \n",
        "#@markdown notebook in the cloud and not on your computer.\n",
        "\n",
        "%%capture\n",
        "# this patch applied to fix torchtext dependency 11 Nov 2021\n",
        "!pip install torch==1.9.0+cu111 torchtext==0.10.0 torchvision==0.10.0+cu111 -f https://download.pytorch.org/whl/torch/ -f https://download.pytorch.org/whl/torchvision/\n",
        "\n",
        "!git clone https://github.com/openai/CLIP\n",
        "# !pip install taming-transformers\n",
        "!git clone https://github.com/CompVis/taming-transformers.git\n",
        "!rm -Rf pixray\n",
        "!git clone https://github.com/dribnet/pixray\n",
        "!pip install ftfy regex tqdm omegaconf pytorch-lightning\n",
        "!pip install kornia==0.6.1\n",
        "!pip install imageio-ffmpeg   \n",
        "!pip install einops\n",
        "!pip install torch-optimizer\n",
        "!pip install easydict\n",
        "!pip install braceexpand\n",
        "!pip install git+https://github.com/pvigier/perlin-numpy\n",
        "!mkdir -p steps\n",
        "!mkdir -p models\n",
        "\n",
        "import sys\n",
        "sys.path.append(\"pixray\")"
      ]
    },
    {
      "cell_type": "code",
      "source": [
        "#@title More Dependencies\n",
        "\n",
        "#@markdown I don't really remember which dependencies I need anymore,\n",
        "#@markdown but if I remove them it breaks sooo\n",
        "\n",
        "!pip install fastapi nest-asyncio pyngrok uvicorn aiofiles python-multipart firebase-admin"
      ],
      "metadata": {
        "id": "EKtxAVmD6O0U"
      },
      "execution_count": null,
      "outputs": []
    },
    {
      "cell_type": "markdown",
      "source": [
        "## please please please upload your firebase credentials *right now* 🥺"
      ],
      "metadata": {
        "id": "bMVnIr-56UHE"
      }
    },
    {
      "cell_type": "code",
      "source": [
        ""
      ],
      "metadata": {
        "id": "3swZSlTU8j_t"
      },
      "execution_count": null,
      "outputs": []
    }
  ]
}