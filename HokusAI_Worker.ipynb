{
  "nbformat": 4,
  "nbformat_minor": 0,
  "metadata": {
    "colab": {
      "name": "HokusAI Worker",
      "provenance": [],
      "collapsed_sections": [],
      "authorship_tag": "ABX9TyOaT2GpOyhRv4QlUbBumZH+",
      "include_colab_link": true
    },
    "kernelspec": {
      "name": "python3",
      "display_name": "Python 3"
    },
    "language_info": {
      "name": "python"
    },
    "accelerator": "GPU"
  },
  "cells": [
    {
      "cell_type": "markdown",
      "metadata": {
        "id": "view-in-github",
        "colab_type": "text"
      },
      "source": [
        "<a href=\"https://colab.research.google.com/github/HokusAI-Art/HokusAI-Server/blob/main/HokusAI_Worker.ipynb\" target=\"_parent\"><img src=\"https://colab.research.google.com/assets/colab-badge.svg\" alt=\"Open In Colab\"/></a>"
      ]
    },
    {
      "cell_type": "markdown",
      "source": [
        "# **Installation**\n",
        "Setting up Pixray\n",
        "\n",
        "https://dazhizhong.gitbook.io/pixray-docs/quickstart/installation"
      ],
      "metadata": {
        "id": "OL32lhQX5r7j"
      }
    },
    {
      "cell_type": "code",
      "source": [
        "#@title Rerolling the GPU until we get a good one\n",
        "\n",
        "import os\n",
        "\n",
        "model = !nvidia-smi\n",
        "GPU_model = model[8]\n",
        "\n",
        "\n",
        "def restart_runtime():\n",
        "    os.kill(os.getpid(), 9)\n",
        "\n",
        "\n",
        "if ('Tesla T4' in GPU_model) or ('Tesla P100-PCIE...' in GPU_model):\n",
        "    print('Fast T4 or P100 GPU :)')\n",
        "else:\n",
        "    print('Bad Tesla K80 GPU :(')"
      ],
      "metadata": {
        "id": "fDSCuAoZ5sle",
        "colab": {
          "base_uri": "https://localhost:8080/"
        },
        "outputId": "36fa7c42-0a87-4ca1-cd04-8a43a0b75a5d"
      },
      "execution_count": null,
      "outputs": [
        {
          "output_type": "stream",
          "name": "stdout",
          "text": [
            "Bad Tesla K80 GPU :(\n"
          ]
        }
      ]
    },
    {
      "cell_type": "code",
      "execution_count": null,
      "metadata": {
        "id": "dHpnag7o5j-q"
      },
      "outputs": [],
      "source": [
        "#@title Setup\n",
        "\n",
        "#@markdown Please execute this cell by pressing the _Play_ button \n",
        "#@markdown on the left. You should only need to run this part once.\n",
        "\n",
        "#@markdown **Note**: This installs the software on the Colab \n",
        "#@markdown notebook in the cloud and not on your computer.\n",
        "\n",
        "%%capture\n",
        "# this patch applied to fix torchtext dependency 11 Nov 2021\n",
        "!pip install torch==1.9.0+cu111 torchtext==0.10.0 torchvision==0.10.0+cu111 -f https://download.pytorch.org/whl/torch/ -f https://download.pytorch.org/whl/torchvision/\n",
        "\n",
        "!git clone https://github.com/openai/CLIP\n",
        "# !pip install taming-transformers\n",
        "!git clone https://github.com/CompVis/taming-transformers.git\n",
        "!rm -Rf pixray\n",
        "!git clone https://github.com/dribnet/pixray\n",
        "!pip install ftfy regex tqdm omegaconf pytorch-lightning\n",
        "!pip install kornia==0.6.1\n",
        "!pip install imageio-ffmpeg   \n",
        "!pip install einops\n",
        "!pip install torch-optimizer\n",
        "!pip install easydict\n",
        "!pip install braceexpand\n",
        "!pip install git+https://github.com/pvigier/perlin-numpy\n",
        "!mkdir -p steps\n",
        "!mkdir -p models\n",
        "\n",
        "import sys\n",
        "sys.path.append(\"pixray\")"
      ]
    },
    {
      "cell_type": "code",
      "source": [
        "#@title More Dependencies\n",
        "\n",
        "#@markdown I don't really remember which dependencies I need anymore,\n",
        "#@markdown but if I remove them it breaks sooo\n",
        "\n",
        "!pip install fastapi nest-asyncio pyngrok uvicorn aiofiles python-multipart firebase-admin"
      ],
      "metadata": {
        "id": "EKtxAVmD6O0U",
        "colab": {
          "base_uri": "https://localhost:8080/"
        },
        "outputId": "5b520ba0-9e7b-4a2d-ebcd-695d88a7c646"
      },
      "execution_count": null,
      "outputs": [
        {
          "output_type": "stream",
          "name": "stdout",
          "text": [
            "Requirement already satisfied: fastapi in /usr/local/lib/python3.7/dist-packages (0.75.0)\n",
            "Requirement already satisfied: nest-asyncio in /usr/local/lib/python3.7/dist-packages (1.5.4)\n",
            "Requirement already satisfied: pyngrok in /usr/local/lib/python3.7/dist-packages (5.1.0)\n",
            "Requirement already satisfied: uvicorn in /usr/local/lib/python3.7/dist-packages (0.17.6)\n",
            "Requirement already satisfied: aiofiles in /usr/local/lib/python3.7/dist-packages (0.8.0)\n",
            "Requirement already satisfied: python-multipart in /usr/local/lib/python3.7/dist-packages (0.0.5)\n",
            "Requirement already satisfied: firebase-admin in /usr/local/lib/python3.7/dist-packages (4.4.0)\n",
            "Requirement already satisfied: pydantic!=1.7,!=1.7.1,!=1.7.2,!=1.7.3,!=1.8,!=1.8.1,<2.0.0,>=1.6.2 in /usr/local/lib/python3.7/dist-packages (from fastapi) (1.9.0)\n",
            "Requirement already satisfied: starlette==0.17.1 in /usr/local/lib/python3.7/dist-packages (from fastapi) (0.17.1)\n",
            "Requirement already satisfied: anyio<4,>=3.0.0 in /usr/local/lib/python3.7/dist-packages (from starlette==0.17.1->fastapi) (3.5.0)\n",
            "Requirement already satisfied: typing-extensions in /usr/local/lib/python3.7/dist-packages (from starlette==0.17.1->fastapi) (3.10.0.2)\n",
            "Requirement already satisfied: sniffio>=1.1 in /usr/local/lib/python3.7/dist-packages (from anyio<4,>=3.0.0->starlette==0.17.1->fastapi) (1.2.0)\n",
            "Requirement already satisfied: idna>=2.8 in /usr/local/lib/python3.7/dist-packages (from anyio<4,>=3.0.0->starlette==0.17.1->fastapi) (2.10)\n",
            "Requirement already satisfied: PyYAML in /usr/local/lib/python3.7/dist-packages (from pyngrok) (6.0)\n",
            "Requirement already satisfied: h11>=0.8 in /usr/local/lib/python3.7/dist-packages (from uvicorn) (0.13.0)\n",
            "Requirement already satisfied: click>=7.0 in /usr/local/lib/python3.7/dist-packages (from uvicorn) (7.1.2)\n",
            "Requirement already satisfied: asgiref>=3.4.0 in /usr/local/lib/python3.7/dist-packages (from uvicorn) (3.5.0)\n",
            "Requirement already satisfied: six>=1.4.0 in /usr/local/lib/python3.7/dist-packages (from python-multipart) (1.15.0)\n",
            "Requirement already satisfied: google-cloud-firestore>=1.4.0 in /usr/local/lib/python3.7/dist-packages (from firebase-admin) (1.7.0)\n",
            "Requirement already satisfied: google-cloud-storage>=1.18.0 in /usr/local/lib/python3.7/dist-packages (from firebase-admin) (1.18.1)\n",
            "Requirement already satisfied: cachecontrol>=0.12.6 in /usr/local/lib/python3.7/dist-packages (from firebase-admin) (0.12.10)\n",
            "Requirement already satisfied: google-api-core[grpc]<2.0.0dev,>=1.14.0 in /usr/local/lib/python3.7/dist-packages (from firebase-admin) (1.26.3)\n",
            "Requirement already satisfied: google-api-python-client>=1.7.8 in /usr/local/lib/python3.7/dist-packages (from firebase-admin) (1.12.10)\n",
            "Requirement already satisfied: msgpack>=0.5.2 in /usr/local/lib/python3.7/dist-packages (from cachecontrol>=0.12.6->firebase-admin) (1.0.3)\n",
            "Requirement already satisfied: requests in /usr/local/lib/python3.7/dist-packages (from cachecontrol>=0.12.6->firebase-admin) (2.23.0)\n",
            "Requirement already satisfied: pytz in /usr/local/lib/python3.7/dist-packages (from google-api-core[grpc]<2.0.0dev,>=1.14.0->firebase-admin) (2018.9)\n",
            "Requirement already satisfied: packaging>=14.3 in /usr/local/lib/python3.7/dist-packages (from google-api-core[grpc]<2.0.0dev,>=1.14.0->firebase-admin) (21.3)\n",
            "Requirement already satisfied: setuptools>=40.3.0 in /usr/local/lib/python3.7/dist-packages (from google-api-core[grpc]<2.0.0dev,>=1.14.0->firebase-admin) (59.5.0)\n",
            "Requirement already satisfied: googleapis-common-protos<2.0dev,>=1.6.0 in /usr/local/lib/python3.7/dist-packages (from google-api-core[grpc]<2.0.0dev,>=1.14.0->firebase-admin) (1.55.0)\n",
            "Requirement already satisfied: protobuf>=3.12.0 in /usr/local/lib/python3.7/dist-packages (from google-api-core[grpc]<2.0.0dev,>=1.14.0->firebase-admin) (3.17.3)\n",
            "Requirement already satisfied: google-auth<2.0dev,>=1.21.1 in /usr/local/lib/python3.7/dist-packages (from google-api-core[grpc]<2.0.0dev,>=1.14.0->firebase-admin) (1.35.0)\n",
            "Requirement already satisfied: grpcio<2.0dev,>=1.29.0 in /usr/local/lib/python3.7/dist-packages (from google-api-core[grpc]<2.0.0dev,>=1.14.0->firebase-admin) (1.44.0)\n",
            "Requirement already satisfied: google-auth-httplib2>=0.0.3 in /usr/local/lib/python3.7/dist-packages (from google-api-python-client>=1.7.8->firebase-admin) (0.0.4)\n",
            "Requirement already satisfied: httplib2<1dev,>=0.15.0 in /usr/local/lib/python3.7/dist-packages (from google-api-python-client>=1.7.8->firebase-admin) (0.17.4)\n",
            "Requirement already satisfied: uritemplate<4dev,>=3.0.0 in /usr/local/lib/python3.7/dist-packages (from google-api-python-client>=1.7.8->firebase-admin) (3.0.1)\n",
            "Requirement already satisfied: cachetools<5.0,>=2.0.0 in /usr/local/lib/python3.7/dist-packages (from google-auth<2.0dev,>=1.21.1->google-api-core[grpc]<2.0.0dev,>=1.14.0->firebase-admin) (4.2.4)\n",
            "Requirement already satisfied: rsa<5,>=3.1.4 in /usr/local/lib/python3.7/dist-packages (from google-auth<2.0dev,>=1.21.1->google-api-core[grpc]<2.0.0dev,>=1.14.0->firebase-admin) (4.8)\n",
            "Requirement already satisfied: pyasn1-modules>=0.2.1 in /usr/local/lib/python3.7/dist-packages (from google-auth<2.0dev,>=1.21.1->google-api-core[grpc]<2.0.0dev,>=1.14.0->firebase-admin) (0.2.8)\n",
            "Requirement already satisfied: google-cloud-core<2.0dev,>=1.0.3 in /usr/local/lib/python3.7/dist-packages (from google-cloud-firestore>=1.4.0->firebase-admin) (1.0.3)\n",
            "Requirement already satisfied: google-resumable-media<0.5.0dev,>=0.3.1 in /usr/local/lib/python3.7/dist-packages (from google-cloud-storage>=1.18.0->firebase-admin) (0.4.1)\n",
            "Requirement already satisfied: pyparsing!=3.0.5,>=2.0.2 in /usr/local/lib/python3.7/dist-packages (from packaging>=14.3->google-api-core[grpc]<2.0.0dev,>=1.14.0->firebase-admin) (3.0.7)\n",
            "Requirement already satisfied: pyasn1<0.5.0,>=0.4.6 in /usr/local/lib/python3.7/dist-packages (from pyasn1-modules>=0.2.1->google-auth<2.0dev,>=1.21.1->google-api-core[grpc]<2.0.0dev,>=1.14.0->firebase-admin) (0.4.8)\n",
            "Requirement already satisfied: chardet<4,>=3.0.2 in /usr/local/lib/python3.7/dist-packages (from requests->cachecontrol>=0.12.6->firebase-admin) (3.0.4)\n",
            "Requirement already satisfied: certifi>=2017.4.17 in /usr/local/lib/python3.7/dist-packages (from requests->cachecontrol>=0.12.6->firebase-admin) (2021.10.8)\n",
            "Requirement already satisfied: urllib3!=1.25.0,!=1.25.1,<1.26,>=1.21.1 in /usr/local/lib/python3.7/dist-packages (from requests->cachecontrol>=0.12.6->firebase-admin) (1.24.3)\n"
          ]
        }
      ]
    },
    {
      "cell_type": "markdown",
      "source": [
        "## please please please upload your firebase credentials *right now* 🥺"
      ],
      "metadata": {
        "id": "bMVnIr-56UHE"
      }
    },
    {
      "cell_type": "markdown",
      "source": [
        "# **Creating the Generating Function**"
      ],
      "metadata": {
        "id": "5-_WX-pL_rC-"
      }
    },
    {
      "cell_type": "code",
      "source": [
        "import torch\n",
        "import pixray\n",
        "from datetime import datetime\n",
        "\n",
        "import firebase_admin\n",
        "from firebase_admin import credentials, firestore, storage\n",
        "\n",
        "if not firebase_admin._apps:\n",
        "    cred = credentials.Certificate(\"firebaseKey.json\")\n",
        "    firebase_admin.initialize_app(cred, {\n",
        "        'storageBucket': 'hokus-ai-firebase.appspot.com' # Firebase storage path without the gs://\n",
        "    })\n",
        "\n",
        "db = firestore.client()\n",
        "bucket = storage.bucket()\n",
        "\n",
        "def generate(doc_id, init_image, prompt, quality, drawer, aspect, iterations, target_image, image_prompts):\n",
        "    torch.cuda.empty_cache()\n",
        "    pixray.reset_settings()\n",
        "\n",
        "    if init_image == '':\n",
        "        init_image = None\n",
        "\n",
        "    if target_image == '':\n",
        "        target_image = None\n",
        "\n",
        "    if image_prompts == '':\n",
        "        image_prompts = None\n",
        "        \n",
        "    pixray.add_settings(prompts=prompt, init_image=init_image, aspect=aspect, quality=quality, drawer=drawer, scale=2.5)\n",
        "    pixray.add_settings(iterations=iterations)\n",
        "    pixray.add_settings(target_images = target_image)\n",
        "    pixray.add_settings(image_prompts = image_prompts, image_prompt_weight = 1.0, image_prompt_shuffle = True)\n",
        "    pixray.add_settings(display_clear=True) # Do this so you don't get overwhelmed with output\n",
        "    \n",
        "    settings = pixray.apply_settings()\n",
        "    pixray.do_init(settings)\n",
        "    pixray.do_run(settings)\n",
        "\n",
        "    image_blob = bucket.blob(f'generated_images/{doc_id}.png')\n",
        "    image_blob.upload_from_filename('output.png')\n",
        "    image_blob.make_public()\n",
        "\n",
        "    return image_blob.public_url"
      ],
      "metadata": {
        "id": "3swZSlTU8j_t"
      },
      "execution_count": null,
      "outputs": []
    },
    {
      "cell_type": "markdown",
      "source": [
        "# **Worker**"
      ],
      "metadata": {
        "id": "YtoKI7oz_v9r"
      }
    },
    {
      "cell_type": "code",
      "source": [
        "import firebase_admin\n",
        "from firebase_admin import credentials, storage, firestore\n",
        "import time\n",
        "from datetime import datetime\n",
        "\n",
        "\n",
        "transaction = db.transaction()\n",
        "\n",
        "@firestore.transactional\n",
        "def claim_task(transaction, queue_objects_ref):\n",
        "    # query firestore\n",
        "    queue_objects = queue_objects_ref.stream(transaction=transaction)\n",
        "\n",
        "    # pull the document from the iterable\n",
        "    next_item = None\n",
        "    for doc in queue_objects:\n",
        "        next_item = doc\n",
        "\n",
        "    # if queue is empty return status code of 2\n",
        "    if not next_item:\n",
        "        return None\n",
        "\n",
        "\n",
        "    # get information from the document \n",
        "    next_item_data = next_item.to_dict()\n",
        "    next_item_data['id'] = next_item.id\n",
        "\n",
        "    # delete the document and return the information\n",
        "    # transaction.delete(next_item.reference)\n",
        "    next_item_data['loading'] = True\n",
        "    transaction.update(next_item.reference, {\n",
        "        u'loading' : True\n",
        "    })\n",
        "\n",
        "    return (next_item_data, next_item.reference)\n",
        "\n",
        "\n",
        "@firestore.transactional\n",
        "def set_loading(transaction, loading):\n",
        "    transaction.update(next_item_reference, {u'loading' : loading})\n",
        "\n",
        "\n",
        "@firestore.transactional\n",
        "def set_image(transaction, image_url):\n",
        "    transaction.update(next_item_reference, {u'imageUrl' : image_url})\n",
        "\n",
        "\n",
        "# initialize query\n",
        "queue_objects_ref = (\n",
        "    db.collection(\"art\")\n",
        "    .order_by(\"createdAt\", direction=\"ASCENDING\")\n",
        "    .where(u'loading', u'==', True)\n",
        "    .limit(1)\n",
        ")\n",
        "\n",
        "transaction_attempts = 0\n",
        "while True:\n",
        "    try:\n",
        "        # apply transaction\n",
        "        task = claim_task(transaction, queue_objects_ref)\n",
        "        if not task:\n",
        "            continue\n",
        "        \n",
        "        next_item_data, next_item_reference = task\n",
        "        if next_item_data['loading']:\n",
        "            # generate art\n",
        "            public_url = generate(next_item_data['id'], next_item_data['initImage'], next_item_data['prompt'],\n",
        "                                  next_item_data['quality'], next_item_data['drawer'], next_item_data['aspect'],\n",
        "                                  next_item_data['iterations'], next_item_data['target_image'], next_item_data['image_prompts'])\n",
        "            \n",
        "            set_image(transaction, public_url)\n",
        "            set_loading(transaction, False)\n",
        "\n",
        "            print(f\"Generated {next_item_data['prompt']} for {next_item_data['id']}\")\n",
        "\n",
        "    except Exception as e:\n",
        "        print(f\"Could not apply transaction. Error: {e}\")\n",
        "        time.sleep(5)\n",
        "        transaction_attempts += 1\n",
        "        if transaction_attempts > 20:\n",
        "            db.collection(\"errors\").add({\n",
        "                \"exception\": f\"Could not apply artifaication claim transaction. Error: {e}\",\n",
        "                \"location\": \"Claim artifaication\",\n",
        "                \"time\": str(datetime.now())\n",
        "            })\n",
        "            exit()\n",
        "\n",
        "    time.sleep(5)"
      ],
      "metadata": {
        "id": "EMzwtPDw_y6Z"
      },
      "execution_count": null,
      "outputs": []
    }
  ]
}